{
 "cells": [
  {
   "cell_type": "code",
   "execution_count": 1,
   "id": "22cbf65b",
   "metadata": {},
   "outputs": [],
   "source": [
    "import numpy as np\n",
    "import tensorflow as tf"
   ]
  },
  {
   "cell_type": "code",
   "execution_count": 21,
   "id": "3f09ab99",
   "metadata": {},
   "outputs": [],
   "source": [
    "def learning_hdr_gamma_correction_fn(image, mu=5000.0, clip=True):\n",
    "    # http://cseweb.ucsd.edu/~viscomp/projects/SIG17HDR/\n",
    "    image = tf.image.convert_image_dtype(image, tf.float32)\n",
    "    mu = tf.cast(mu, dtype=tf.float32)\n",
    "    if not clip:\n",
    "        slope = mu / tf.log(mu+1)\n",
    "        return tf.where(\n",
    "            image <= 0.0,\n",
    "            slope * image, tf.log(1.0 + mu * image) / tf.log(1.0 + mu))\n",
    "    else:\n",
    "        image = tf.clip_by_value(image, 0.0, 1.0)\n",
    "        return tf.log(1.0 + mu * image) / tf.log(1.0 + mu)"
   ]
  },
  {
   "cell_type": "code",
   "execution_count": 22,
   "id": "7427bf51",
   "metadata": {},
   "outputs": [],
   "source": [
    "def srgb_gamma_correction_fn(image):\n",
    "    # http://www.color.org/chardata/rgb/srgb.xalter\n",
    "    # Currently gradients of tf.where will be nan if one of the inputs has nan gradients\n",
    "    image = tf.image.convert_image_dtype(image, tf.float32)\n",
    "    return tf.where(\n",
    "            image <= 0.0031308, 12.92 * image,\n",
    "            (1.055 * (tf.maximum(image, 0.0031308) ** (1/2.4)) - 0.055))\n",
    "\n",
    "def reverse_srgb_gamma_correction_fn(image):\n",
    "    image = tf.image.convert_image_dtype(image, tf.float32)\n",
    "    return tf.where(\n",
    "            image <= 0.04045, image / 12.92,\n",
    "            ((tf.maximum(image, 0.04045) + 0.055) / 1.055) ** 2.4)"
   ]
  },
  {
   "cell_type": "code",
   "execution_count": 59,
   "id": "8cbbf1ed",
   "metadata": {},
   "outputs": [],
   "source": [
    "import cv2\n",
    "img = cv2.imread(r'C:\\Users\\sky1236\\Desktop\\coding_everyday\\prerequisite_python\\archi_1920x1080.jpg')\n",
    "img_tf = tf.convert_to_tensor(img/255.0, dtype=tf.float32)\n",
    "# img_tf_gamma = srgb_gamma_correction_fn(img_tf)\n",
    "img_tf_gamma = learning_hdr_gamma_correction_fn(img_tf, mu=500.0)"
   ]
  },
  {
   "cell_type": "code",
   "execution_count": 60,
   "id": "fec8f7ef",
   "metadata": {},
   "outputs": [],
   "source": [
    "def quantize(image, bit_depth=8):\n",
    "    max_value = 2 ** bit_depth - 1\n",
    "    dtype = np.uint16 if bit_depth > 8 else np.uint8\n",
    "    return np.round(np.clip(image, 0.0, 1.0) * max_value).astype(dtype)"
   ]
  },
  {
   "cell_type": "code",
   "execution_count": 61,
   "id": "5f040383",
   "metadata": {},
   "outputs": [
    {
     "name": "stdout",
     "output_type": "stream",
     "text": [
      "1.0 0.0\n"
     ]
    }
   ],
   "source": [
    "with tf.Session() as sess:\n",
    "    img_01 = sess.run(img_tf)\n",
    "    print(np.max(img_01), np.min(img_01))\n",
    "    img_gamma = sess.run(img_tf_gamma)\n",
    "    cv2.imwrite(r'C:\\Users\\sky1236\\Desktop\\coding_everyday\\prerequisite_python\\archi_1920x1080_gamma.jpg', quantize(img_gamma, 8))"
   ]
  },
  {
   "cell_type": "code",
   "execution_count": 77,
   "id": "ac10a6f7",
   "metadata": {},
   "outputs": [],
   "source": [
    "import matplotlib.pyplot as plt\n",
    "X = np.linspace(0.0, 1.0, num=100, dtype=np.float32)\n",
    "Y = np.where(\n",
    "        X <= 0.0031308, 12.92 * X,\n",
    "        (1.055 * (np.maximum(X, 0.0031308) ** (1/2.4)) - 0.055))\n",
    "Y2 = np.where(\n",
    "        X <= 0.04045, X / 12.92,\n",
    "        ((np.maximum(X, 0.04045) + 0.055) / 1.055) ** 2.4)"
   ]
  },
  {
   "cell_type": "code",
   "execution_count": 70,
   "id": "6ca70e75",
   "metadata": {},
   "outputs": [
    {
     "data": {
      "text/plain": [
       "[<matplotlib.lines.Line2D at 0x183019f6358>]"
      ]
     },
     "execution_count": 70,
     "metadata": {},
     "output_type": "execute_result"
    },
    {
     "data": {
      "image/png": "[encoded data removed]",
      "text/plain": [
       "<Figure size 432x288 with 1 Axes>"
      ]
     },
     "metadata": {
      "needs_background": "light"
     },
     "output_type": "display_data"
    }
   ],
   "source": [
    "plt.plot(X, Y)"
   ]
  },
  {
   "cell_type": "code",
   "execution_count": 69,
   "id": "a7ea1ccd",
   "metadata": {},
   "outputs": [
    {
     "data": {
      "text/plain": [
       "[<matplotlib.lines.Line2D at 0x1830198f828>]"
      ]
     },
     "execution_count": 69,
     "metadata": {},
     "output_type": "execute_result"
    },
    {
     "data": {
      "image/png": "[encoded data removed]",
      "text/plain": [
       "<Figure size 432x288 with 1 Axes>"
      ]
     },
     "metadata": {
      "needs_background": "light"
     },
     "output_type": "display_data"
    }
   ],
   "source": [
    "plt.plot(X, Y2)"
   ]
  },
  {
   "cell_type": "code",
   "execution_count": 76,
   "id": "57869465",
   "metadata": {},
   "outputs": [
    {
     "data": {
      "text/plain": [
       "[<matplotlib.lines.Line2D at 0x18301c43978>]"
      ]
     },
     "execution_count": 76,
     "metadata": {},
     "output_type": "execute_result"
    },
    {
     "data": {
      "image/png": "[encoded data removed]",
      "text/plain": [
       "<Figure size 432x288 with 1 Axes>"
      ]
     },
     "metadata": {
      "needs_background": "light"
     },
     "output_type": "display_data"
    }
   ],
   "source": [
    "def func(X, mu):\n",
    "    return np.log(1.0 + mu * X) / np.log(1.0 + mu)\n",
    "\n",
    "mu_list = [100, 500, 5000]\n",
    "\n",
    "for mu in mu_list:\n",
    "    plt.plot(X, func(X, mu))\n",
    "plt.show()"
   ]
  },
  {
   "cell_type": "code",
   "execution_count": null,
   "id": "eeb7f295",
   "metadata": {},
   "outputs": [],
   "source": []
  }
 ],
 "metadata": {
  "kernelspec": {
   "display_name": "Python 3",
   "language": "python",
   "name": "python3"
  },
  "language_info": {
   "codemirror_mode": {
    "name": "ipython",
    "version": 3
   },
   "file_extension": ".py",
   "mimetype": "text/x-python",
   "name": "python",
   "nbconvert_exporter": "python",
   "pygments_lexer": "ipython3",
   "version": "3.6.13"
  }
 },
 "nbformat": 4,
 "nbformat_minor": 5
}
